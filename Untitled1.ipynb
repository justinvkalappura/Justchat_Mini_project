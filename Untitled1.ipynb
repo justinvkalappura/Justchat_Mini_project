{
  "nbformat": 4,
  "nbformat_minor": 0,
  "metadata": {
    "colab": {
      "name": "Untitled1.ipynb",
      "provenance": [],
      "authorship_tag": "ABX9TyMTKnqF864ejQ311jEudBZ7",
      "include_colab_link": true
    },
    "kernelspec": {
      "name": "python3",
      "display_name": "Python 3"
    },
    "language_info": {
      "name": "python"
    }
  },
  "cells": [
    {
      "cell_type": "markdown",
      "metadata": {
        "id": "view-in-github",
        "colab_type": "text"
      },
      "source": [
        "<a href=\"https://colab.research.google.com/github/justinvkalappura/MCA-Mini-project/blob/main/Untitled1.ipynb\" target=\"_parent\"><img src=\"https://colab.research.google.com/assets/colab-badge.svg\" alt=\"Open In Colab\"/></a>"
      ]
    },
    {
      "cell_type": "code",
      "execution_count": 8,
      "metadata": {
        "colab": {
          "base_uri": "https://localhost:8080/"
        },
        "id": "bXjKAapVWCOx",
        "outputId": "0a31b0bf-9709-4da8-a66d-52da970f91c3"
      },
      "outputs": [
        {
          "output_type": "stream",
          "name": "stdout",
          "text": [
            "Output is :\n",
            "0    1\n",
            "1    2\n",
            "2    3\n",
            "3    4\n",
            "4    5\n",
            "dtype: int64\n"
          ]
        }
      ],
      "source": [
        "import pandas as pd\n",
        "import numpy as np\n",
        "s=pd.Series([1,2,3,4,5])\n",
        "print(\"Output is :\")\n",
        "print(s)"
      ]
    },
    {
      "cell_type": "code",
      "source": [
        "import pandas as pd\n",
        "import numpy as np\n",
        "s=pd.Series([1,2,3,4,5],index=['a','b','c','d','e'])\n",
        "print(\"Output is :\")\n",
        "print(s)"
      ],
      "metadata": {
        "colab": {
          "base_uri": "https://localhost:8080/"
        },
        "id": "GWmY3l1YWXaq",
        "outputId": "e369cc2e-ab0b-40df-973d-150c8cc181fd"
      },
      "execution_count": 7,
      "outputs": [
        {
          "output_type": "stream",
          "name": "stdout",
          "text": [
            "Output is :\n",
            "a    1\n",
            "b    2\n",
            "c    3\n",
            "d    4\n",
            "e    5\n",
            "dtype: int64\n"
          ]
        }
      ]
    },
    {
      "cell_type": "code",
      "source": [
        "import pandas as pd \n",
        "s= pd.Series([1,2,3,4,5])\n",
        "f= pd.Series(['a','b','c','d','e'])\n",
        "dic={'Name':f,\"Rollno\":s}\n",
        "df= pd.DataFrame(dic)\n",
        "print(df)"
      ],
      "metadata": {
        "colab": {
          "base_uri": "https://localhost:8080/"
        },
        "id": "ViZwdc-dWti_",
        "outputId": "94131ecf-85a7-4c05-ed28-c05f9e9a3047"
      },
      "execution_count": 5,
      "outputs": [
        {
          "output_type": "stream",
          "name": "stdout",
          "text": [
            "  Name  Rollno\n",
            "0    a       1\n",
            "1    b       2\n",
            "2    c       3\n",
            "3    d       4\n",
            "4    e       5\n"
          ]
        }
      ]
    },
    {
      "cell_type": "code",
      "source": [
        "import pandas as pd\n",
        "import numpy as np\n",
        "s=pd.Series([1,2,3,4,5],index=['a','b','c','d','e'])\n",
        "print(\"Output is :\")\n",
        "print(s*2)"
      ],
      "metadata": {
        "colab": {
          "base_uri": "https://localhost:8080/"
        },
        "id": "WJAJtzzrXuYn",
        "outputId": "06878c2a-11f2-49d6-ca91-8e1ea9a99a6e"
      },
      "execution_count": 6,
      "outputs": [
        {
          "output_type": "stream",
          "name": "stdout",
          "text": [
            "Output is :\n",
            "a     2\n",
            "b     4\n",
            "c     6\n",
            "d     8\n",
            "e    10\n",
            "dtype: int64\n"
          ]
        }
      ]
    },
    {
      "cell_type": "code",
      "source": [
        "import pandas as pd\n",
        "import numpy as np\n",
        "s=pd.Series([1,2,3,4,5],index=['a','b','c','d','e'])\n",
        "print(\"Output is :\")\n",
        "print(s*s)"
      ],
      "metadata": {
        "colab": {
          "base_uri": "https://localhost:8080/"
        },
        "id": "NrQ7sP44X-SW",
        "outputId": "63c72f19-17fd-401a-b653-dc4bde0f1e84"
      },
      "execution_count": 9,
      "outputs": [
        {
          "output_type": "stream",
          "name": "stdout",
          "text": [
            "Output is :\n",
            "a     1\n",
            "b     4\n",
            "c     9\n",
            "d    16\n",
            "e    25\n",
            "dtype: int64\n"
          ]
        }
      ]
    },
    {
      "cell_type": "code",
      "source": [
        "import pandas as pd\n",
        "import numpy as np\n",
        "s=pd.Series([1,2,3,4,5],index=['a','b','c','d','e'])\n",
        "print(\"Output is :\")\n",
        "print(s[s>2])"
      ],
      "metadata": {
        "colab": {
          "base_uri": "https://localhost:8080/"
        },
        "id": "1lmloFYfYCGu",
        "outputId": "ec006951-ae93-44a1-8301-1db07bac9c2d"
      },
      "execution_count": 11,
      "outputs": [
        {
          "output_type": "stream",
          "name": "stdout",
          "text": [
            "Output is :\n",
            "c    3\n",
            "d    4\n",
            "e    5\n",
            "dtype: int64\n"
          ]
        }
      ]
    },
    {
      "cell_type": "code",
      "source": [
        "import pandas as pd\n",
        "import numpy as np\n",
        "s=pd.Series([1,2,3,4,5])\n",
        "d=pd.Series([2,3,4,5,6])\n",
        "print(\"Output is :\")\n",
        "print(s+d)"
      ],
      "metadata": {
        "colab": {
          "base_uri": "https://localhost:8080/"
        },
        "id": "y3BnL6JkYTW-",
        "outputId": "f2c4b651-201a-4f90-a55a-e83b2c53e0f5"
      },
      "execution_count": 15,
      "outputs": [
        {
          "output_type": "stream",
          "name": "stdout",
          "text": [
            "Output is :\n",
            "0     3\n",
            "1     5\n",
            "2     7\n",
            "3     9\n",
            "4    11\n",
            "dtype: int64\n"
          ]
        }
      ]
    },
    {
      "cell_type": "code",
      "source": [
        "import pandas as pd\n",
        "import numpy as np\n",
        "s=pd.Series([1,2,3,4,5,6,7,8,9,10,11,12,13,14,15])\n",
        "print(\"Output is :\")\n",
        "print(s.head(5))\n",
        "print(s.tail(5))"
      ],
      "metadata": {
        "colab": {
          "base_uri": "https://localhost:8080/"
        },
        "id": "mnIwf7UsYmpd",
        "outputId": "362c6d60-d653-49c7-f0f3-04c7e7ce7933"
      },
      "execution_count": 16,
      "outputs": [
        {
          "output_type": "stream",
          "name": "stdout",
          "text": [
            "Output is :\n",
            "0    1\n",
            "1    2\n",
            "2    3\n",
            "3    4\n",
            "4    5\n",
            "dtype: int64\n",
            "10    11\n",
            "11    12\n",
            "12    13\n",
            "13    14\n",
            "14    15\n",
            "dtype: int64\n"
          ]
        }
      ]
    },
    {
      "cell_type": "code",
      "source": [
        "import pandas as pd\n",
        "import numpy as np\n",
        "s=pd.Series([1,2,3,4,5,6,7,8,9,10,11,12,13,14,15])\n",
        "print(\"Output is :\")\n",
        "print(s[0:5])"
      ],
      "metadata": {
        "colab": {
          "base_uri": "https://localhost:8080/"
        },
        "id": "53HdVOBVZMP-",
        "outputId": "8f16b32c-3fe3-4102-9d71-fac9d4e0594c"
      },
      "execution_count": 18,
      "outputs": [
        {
          "output_type": "stream",
          "name": "stdout",
          "text": [
            "Output is :\n",
            "0    1\n",
            "1    2\n",
            "2    3\n",
            "3    4\n",
            "4    5\n",
            "dtype: int64\n"
          ]
        }
      ]
    },
    {
      "cell_type": "code",
      "source": [
        "import pandas as pd\n",
        "import numpy as np\n",
        "arr=np.array([1,2,3,4,5,6,7,8,9,10])\n",
        "s=pd.DataFrame(arr)\n",
        "print(df)\n",
        "print(df.iloc[0:2,1:2])\n",
        "print(df.iloc[ : ,0:2])"
      ],
      "metadata": {
        "colab": {
          "base_uri": "https://localhost:8080/"
        },
        "id": "Kguz6j3FZWbE",
        "outputId": "abebdba9-0cb2-47af-ec9f-bd0c6a8cf359"
      },
      "execution_count": 19,
      "outputs": [
        {
          "output_type": "stream",
          "name": "stdout",
          "text": [
            "  Name  Rollno\n",
            "0    a       1\n",
            "1    b       2\n",
            "2    c       3\n",
            "3    d       4\n",
            "4    e       5\n",
            "   Rollno\n",
            "0       1\n",
            "1       2\n",
            "  Name  Rollno\n",
            "0    a       1\n",
            "1    b       2\n",
            "2    c       3\n",
            "3    d       4\n",
            "4    e       5\n"
          ]
        }
      ]
    },
    {
      "cell_type": "code",
      "source": [
        "import pandas as pd\n",
        "dic={'Name':['a','b','c'],\n",
        "     'Age':[1,2,3]\n",
        "     }\n",
        "df= pd.DataFrame(dic,index=[True,False,True])\n",
        "print(df)\n",
        "print(df.loc[True])\n",
        "print()\n",
        "print('Result of iloc:')\n",
        "print(df.iloc[1])"
      ],
      "metadata": {
        "colab": {
          "base_uri": "https://localhost:8080/"
        },
        "id": "Cyw4KfTHa6Vf",
        "outputId": "e3742739-54e1-4627-c9d2-4d04fecc6fc4"
      },
      "execution_count": 22,
      "outputs": [
        {
          "output_type": "stream",
          "name": "stdout",
          "text": [
            "      Name  Age\n",
            "True     a    1\n",
            "False    b    2\n",
            "True     c    3\n",
            "     Name  Age\n",
            "True    a    1\n",
            "True    c    3\n",
            "\n",
            "Result of iloc:\n",
            "Name    b\n",
            "Age     2\n",
            "dtype: object\n"
          ]
        }
      ]
    }
  ]
}